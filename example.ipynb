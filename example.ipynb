{
 "cells": [
  {
   "cell_type": "code",
   "execution_count": 7,
   "metadata": {},
   "outputs": [],
   "source": [
    "import requests\n",
    "api_url = 'https://d5d4l8gbut1huec75f8q.apigw.yandexcloud.net'\n",
    "exteranl_api_url = 'https://d5d5ae8bj5eo4d552mfq.apigw.yandexcloud.net'"
   ]
  },
  {
   "cell_type": "code",
   "execution_count": 2,
   "metadata": {},
   "outputs": [
    {
     "name": "stdout",
     "output_type": "stream",
     "text": [
      "{'team': {'last_game_id': 124, 'team_id': 1, 'team_name': \"b'Red'\"}}\n"
     ]
    }
   ],
   "source": [
    "resp = requests.get(api_url + '/team?team_id=1')\n",
    "print(resp.json())"
   ]
  },
  {
   "cell_type": "code",
   "execution_count": 3,
   "metadata": {},
   "outputs": [
    {
     "name": "stdout",
     "output_type": "stream",
     "text": [
      "{'cards': [{'card_id': 100, 'question': \"b'Lion'\", 'topic_id': 2}, {'card_id': 101, 'question': \"b'Zebra'\", 'topic_id': 2}, {'card_id': 102, 'question': \"b'Pig'\", 'topic_id': 2}, {'card_id': 103, 'question': \"b'Elephant'\", 'topic_id': 2}, {'card_id': 104, 'question': \"b'Dog'\", 'topic_id': 2}, {'card_id': 105, 'question': \"b'Deer'\", 'topic_id': 2}, {'card_id': 106, 'question': \"b'Tiger'\", 'topic_id': 2}, {'card_id': 107, 'question': \"b'Giraffe'\", 'topic_id': 2}, {'card_id': 108, 'question': \"b'Monkey'\", 'topic_id': 2}, {'card_id': 109, 'question': \"b'Hippo'\", 'topic_id': 2}, {'card_id': 110, 'question': \"b'Crocodile'\", 'topic_id': 2}, {'card_id': 111, 'question': \"b'Rhino'\", 'topic_id': 2}, {'card_id': 112, 'question': \"b'Cheetah'\", 'topic_id': 2}, {'card_id': 113, 'question': \"b'Bear'\", 'topic_id': 2}, {'card_id': 114, 'question': \"b'Wolf'\", 'topic_id': 2}, {'card_id': 115, 'question': \"b'Fox'\", 'topic_id': 2}, {'card_id': 116, 'question': \"b'Moose'\", 'topic_id': 2}, {'card_id': 117, 'question': \"b'Rabbit'\", 'topic_id': 2}, {'card_id': 118, 'question': \"b'Kangaroo'\", 'topic_id': 2}, {'card_id': 119, 'question': \"b'Koala'\", 'topic_id': 2}, {'card_id': 120, 'question': \"b'Panda'\", 'topic_id': 2}, {'card_id': 121, 'question': \"b'Gorilla'\", 'topic_id': 2}, {'card_id': 122, 'question': \"b'Camel'\", 'topic_id': 2}, {'card_id': 123, 'question': \"b'Llama'\", 'topic_id': 2}, {'card_id': 124, 'question': \"b'Alpaca'\", 'topic_id': 2}, {'card_id': 125, 'question': \"b'Buffalo'\", 'topic_id': 2}, {'card_id': 126, 'question': \"b'Bison'\", 'topic_id': 2}, {'card_id': 127, 'question': \"b'Otter'\", 'topic_id': 2}, {'card_id': 128, 'question': \"b'Seal'\", 'topic_id': 2}, {'card_id': 129, 'question': \"b'Walrus'\", 'topic_id': 2}, {'card_id': 130, 'question': \"b'Badger'\", 'topic_id': 2}, {'card_id': 131, 'question': \"b'Raccoon'\", 'topic_id': 2}, {'card_id': 132, 'question': \"b'Lynx'\", 'topic_id': 2}, {'card_id': 133, 'question': \"b'Bobcat'\", 'topic_id': 2}, {'card_id': 134, 'question': \"b'Panther'\", 'topic_id': 2}, {'card_id': 135, 'question': \"b'Jaguar'\", 'topic_id': 2}, {'card_id': 136, 'question': \"b'Leopard'\", 'topic_id': 2}, {'card_id': 137, 'question': \"b'Cougar'\", 'topic_id': 2}, {'card_id': 138, 'question': \"b'Coyote'\", 'topic_id': 2}, {'card_id': 139, 'question': \"b'Hyena'\", 'topic_id': 2}, {'card_id': 140, 'question': \"b'Jackal'\", 'topic_id': 2}, {'card_id': 141, 'question': \"b'Chimpanzee'\", 'topic_id': 2}, {'card_id': 142, 'question': \"b'Orangutan'\", 'topic_id': 2}, {'card_id': 143, 'question': \"b'Bonobo'\", 'topic_id': 2}, {'card_id': 144, 'question': \"b'Lemur'\", 'topic_id': 2}, {'card_id': 145, 'question': \"b'Macaque'\", 'topic_id': 2}, {'card_id': 146, 'question': \"b'Baboon'\", 'topic_id': 2}, {'card_id': 147, 'question': \"b'Squirrel'\", 'topic_id': 2}, {'card_id': 148, 'question': \"b'Beaver'\", 'topic_id': 2}, {'card_id': 149, 'question': \"b'Hedgehog'\", 'topic_id': 2}, {'card_id': 150, 'question': \"b'Wombat'\", 'topic_id': 2}, {'card_id': 151, 'question': \"b'Ostrich'\", 'topic_id': 2}, {'card_id': 152, 'question': \"b'Kiwi'\", 'topic_id': 2}, {'card_id': 153, 'question': \"b'Penguin'\", 'topic_id': 2}, {'card_id': 154, 'question': \"b'Parrot'\", 'topic_id': 2}, {'card_id': 155, 'question': \"b'Canary'\", 'topic_id': 2}, {'card_id': 156, 'question': \"b'Sparrow'\", 'topic_id': 2}, {'card_id': 157, 'question': \"b'Goldfish'\", 'topic_id': 2}, {'card_id': 158, 'question': \"b'Cat'\", 'topic_id': 2}, {'card_id': 159, 'question': \"b'Shark'\", 'topic_id': 2}, {'card_id': 160, 'question': \"b'Whale'\", 'topic_id': 2}]}\n"
     ]
    }
   ],
   "source": [
    "topic_id = 2\n",
    "resp = requests.get(api_url + f'/cards/{topic_id}')\n",
    "print(resp.json())"
   ]
  },
  {
   "cell_type": "code",
   "execution_count": 10,
   "metadata": {},
   "outputs": [
    {
     "name": "stdout",
     "output_type": "stream",
     "text": [
      "{'game_id': 125, 'first_team': {'team_name': 'Red', 'team_id': 1}}\n"
     ]
    }
   ],
   "source": [
    "body = {\n",
    "    'topic_id' : 2,\n",
    "    'points_to_win' : 50,\n",
    "    'round_time' : 30,\n",
    "    'teams_count' : 3\n",
    "}\n",
    "resp = requests.post(api_url + '/game/configure',json=body)\n",
    "print(resp.json())"
   ]
  },
  {
   "cell_type": "code",
   "execution_count": 13,
   "metadata": {},
   "outputs": [
    {
     "name": "stdout",
     "output_type": "stream",
     "text": [
      "{'game_id': '125', 'round_time': 30, 'team_id': 1, 'question': {'round_id': 211, 'question': {'card_id': 131, 'question': 'Raccoon', 'topic_id': 2}}}\n"
     ]
    }
   ],
   "source": [
    "body = {\n",
    "    'team_id' : 1,\n",
    "}\n",
    "resp = requests.patch(api_url + '/game/start?game_id=125',json=body)\n",
    "print(resp.json())"
   ]
  },
  {
   "cell_type": "code",
   "execution_count": 14,
   "metadata": {},
   "outputs": [
    {
     "name": "stdout",
     "output_type": "stream",
     "text": [
      "{'next_card': {'card_id': 142, 'question': 'Orangutan', 'topic_id': 2}}\n"
     ]
    }
   ],
   "source": [
    "body = {\n",
    "    'card_id' : 131,\n",
    "    'round_id' : 211,\n",
    "    'is_answered' : True\n",
    "}\n",
    "resp = requests.patch(api_url + '/game/answer?game_id=125',json=body)\n",
    "print(resp.json())"
   ]
  },
  {
   "cell_type": "code",
   "execution_count": 15,
   "metadata": {},
   "outputs": [
    {
     "name": "stdout",
     "output_type": "stream",
     "text": [
      "{'game_id': '125', 'next_round': 212, 'next_team': {'team_name': 'Blue', 'team_id': 2}}\n"
     ]
    }
   ],
   "source": [
    "body = {\n",
    "    'team_id' : 1,\n",
    "    'round_id' : 211\n",
    "}\n",
    "resp = requests.patch(api_url + '/game/round?game_id=125',json=body)\n",
    "print(resp.json())"
   ]
  },
  {
   "cell_type": "code",
   "execution_count": 17,
   "metadata": {},
   "outputs": [
    {
     "name": "stdout",
     "output_type": "stream",
     "text": [
      "{'game_id': '125', 'round_time': 30, 'team_id': 2, 'question': {'round_id': 212, 'question': {'card_id': 102, 'question': 'Pig', 'topic_id': 2}}}\n"
     ]
    }
   ],
   "source": [
    "body = {\n",
    "    'team_id' : 2,\n",
    "    'round_id' : 212\n",
    "}\n",
    "resp = requests.post(api_url + '/game/next/round?game_id=125',json=body)\n",
    "print(resp.json())"
   ]
  },
  {
   "cell_type": "code",
   "execution_count": 19,
   "metadata": {},
   "outputs": [
    {
     "name": "stdout",
     "output_type": "stream",
     "text": [
      "{'game_id': 127, 'first_team': {'team_name': 'Red', 'team_id': 1}}\n"
     ]
    }
   ],
   "source": [
    "resp = requests.get(api_url + '/game?game_id=124')\n",
    "print(resp.json())\n",
    "# 'game_id': 127 в ответе это id новой игры чтобы сразу ее начинать"
   ]
  }
 ],
 "metadata": {
  "kernelspec": {
   "display_name": "Python 3",
   "language": "python",
   "name": "python3"
  },
  "language_info": {
   "codemirror_mode": {
    "name": "ipython",
    "version": 3
   },
   "file_extension": ".py",
   "mimetype": "text/x-python",
   "name": "python",
   "nbconvert_exporter": "python",
   "pygments_lexer": "ipython3",
   "version": "3.10.5"
  }
 },
 "nbformat": 4,
 "nbformat_minor": 2
}
